{
  "nbformat": 4,
  "nbformat_minor": 0,
  "metadata": {
    "colab": {
      "provenance": [],
      "include_colab_link": true
    },
    "kernelspec": {
      "name": "python3",
      "display_name": "Python 3"
    }
  },
  "cells": [
    {
      "cell_type": "markdown",
      "metadata": {
        "id": "view-in-github",
        "colab_type": "text"
      },
      "source": [
        "<a href=\"https://colab.research.google.com/github/caiovinicius76/google-colab/blob/main/Notebooks/Tarefas/Tarefa_3_4.ipynb\" target=\"_parent\"><img src=\"https://colab.research.google.com/assets/colab-badge.svg\" alt=\"Open In Colab\"/></a>"
      ]
    },
    {
      "cell_type": "markdown",
      "metadata": {
        "id": "jZM3XREkvOba"
      },
      "source": [
        "---\n",
        "\n",
        "---\n",
        "## Tarefa 3.4 - Análise Exploratória e Estatística Descritiva - Medidas estatísticas utilizando Pyhton\n",
        "\n",
        "Esta tarefa consiste analisar por meio de métodos de descrição paramétrica (medidas estatísticas) o conjunto de dados *Hourly Wages*.\n",
        "\n",
        "Você deve implementar em Python os itens solicitados abaixo utilizando a biblioteca Pandas e outras que forem necessárias.\n",
        "\n",
        "---\n",
        "\n",
        "\n",
        "\n",
        "---\n",
        "\n"
      ]
    },
    {
      "cell_type": "markdown",
      "metadata": {
        "id": "IPxitpXn5GFN"
      },
      "source": [
        "## Conjunto de dados *Hourly Wages*\n",
        "\n",
        "Esse conjunto de dados é popularmente empregado para a tarefa de regressão em Machine Learning. Constrói-se e ajusta-se um modelo de aprendizado de máquina para predizer/estimar o salário de um funcionário em função de suas características (anos de estudos, experiência de trabalho, filiação sindical, região, ocupação e sexo).\n",
        "\n",
        "- Número de Instâncias: 534\n",
        "\n",
        "- Número de Atributos: 9 atributos numéricos e o target (*wage_per_hour*)\n",
        "\n",
        "- Informações dos Atributos:\n",
        "  - union (filiação sindical)\n",
        "  - education_yrs (anos de instrução)\n",
        "  - experience_yrs (anos de experiência)\n",
        "  - age (idade)\n",
        "  - female (sexo)\n",
        "  - marr (estado civil - casado)\n",
        "  - south (região)\n",
        "  - manufacturing (indústria)\n",
        "  - construction (construção)\n",
        "\n",
        "  \n",
        "- Variável de destino (target): wage_per_hour\n",
        "\n"
      ]
    },
    {
      "cell_type": "markdown",
      "source": [
        "## Implementar os itens abaixo:"
      ],
      "metadata": {
        "id": "4B33fWHi7rrc"
      }
    },
    {
      "cell_type": "markdown",
      "metadata": {
        "id": "nufGipDieZbc"
      },
      "source": [
        "#### a-) Clonar o repositório de dados da disciplina (DSBD) hospedado no GitHUb.\n"
      ]
    },
    {
      "cell_type": "code",
      "metadata": {
        "id": "ZaJpoCYtejnr",
        "outputId": "351812ab-e0d9-4d5f-97f7-c5482de16893",
        "colab": {
          "base_uri": "https://localhost:8080/"
        }
      },
      "source": [
        "!git clone https://github.com/malegopc/DSBD\n",
        "import pandas as pd"
      ],
      "execution_count": 2,
      "outputs": [
        {
          "output_type": "stream",
          "name": "stdout",
          "text": [
            "Cloning into 'DSBD'...\n",
            "remote: Enumerating objects: 739, done.\u001b[K\n",
            "remote: Counting objects: 100% (282/282), done.\u001b[K\n",
            "remote: Compressing objects: 100% (167/167), done.\u001b[K\n",
            "remote: Total 739 (delta 147), reused 218 (delta 111), pack-reused 457 (from 1)\u001b[K\n",
            "Receiving objects: 100% (739/739), 14.80 MiB | 5.62 MiB/s, done.\n",
            "Resolving deltas: 100% (355/355), done.\n"
          ]
        }
      ]
    },
    {
      "cell_type": "markdown",
      "metadata": {
        "id": "4G6UZT6QC_us"
      },
      "source": [
        "#### b-) Ler o dataset \"*Hourly_wages/hourly_wages.csv*\" como dataframe utilizando a biblioteca Pandas e mostrar as 5 primeiras e as 5 últimas linhas do dataset."
      ]
    },
    {
      "cell_type": "code",
      "metadata": {
        "id": "rRbFDx1iDCLq",
        "outputId": "21e2b778-3c8b-45ca-c94c-cecc0eb3cabf",
        "colab": {
          "base_uri": "https://localhost:8080/"
        }
      },
      "source": [
        "df = pd.read_csv('/content/DSBD/Datasets/Hourly_wages/hourly_wages.csv')\n",
        "\n",
        "print(\"Primeiras 5 linhas:\")\n",
        "print(df.head())\n",
        "\n",
        "print(\"\\nÚltimas 5 linhas:\")\n",
        "print(df.tail())"
      ],
      "execution_count": 3,
      "outputs": [
        {
          "output_type": "stream",
          "name": "stdout",
          "text": [
            "Primeiras 5 linhas:\n",
            "   wage_per_hour  union  education_yrs  experience_yrs  age  female  marr  \\\n",
            "0           5.10      0              8              21   35       1     1   \n",
            "1           4.95      0              9              42   57       1     1   \n",
            "2           6.67      0             12               1   19       0     0   \n",
            "3           4.00      0             12               4   22       0     0   \n",
            "4           7.50      0             12              17   35       0     1   \n",
            "\n",
            "   south  manufacturing  construction  \n",
            "0      0              1             0  \n",
            "1      0              1             0  \n",
            "2      0              1             0  \n",
            "3      0              0             0  \n",
            "4      0              0             0  \n",
            "\n",
            "Últimas 5 linhas:\n",
            "     wage_per_hour  union  education_yrs  experience_yrs  age  female  marr  \\\n",
            "529          11.36      0             18               5   29       0     0   \n",
            "530           6.10      0             12              33   51       1     1   \n",
            "531          23.25      1             17              25   48       1     1   \n",
            "532          19.88      1             12              13   31       0     1   \n",
            "533          15.38      0             16              33   55       0     1   \n",
            "\n",
            "     south  manufacturing  construction  \n",
            "529      0              0             0  \n",
            "530      0              0             0  \n",
            "531      0              0             0  \n",
            "532      1              0             0  \n",
            "533      0              1             0  \n"
          ]
        }
      ]
    },
    {
      "cell_type": "markdown",
      "metadata": {
        "id": "VccXvtXmOJy7"
      },
      "source": [
        "#### c-) Obter um resumo da estatística descritiva dos dados utilizando um único comando (função)."
      ]
    },
    {
      "cell_type": "code",
      "metadata": {
        "id": "WHpUgIoROTpq",
        "outputId": "10e0bd71-2578-4468-ec42-55a5f1c26b1b",
        "colab": {
          "base_uri": "https://localhost:8080/"
        }
      },
      "source": [
        "print(df.describe())"
      ],
      "execution_count": 4,
      "outputs": [
        {
          "output_type": "stream",
          "name": "stdout",
          "text": [
            "       wage_per_hour       union  education_yrs  experience_yrs         age  \\\n",
            "count     534.000000  534.000000     534.000000      534.000000  534.000000   \n",
            "mean        9.024064    0.179775      13.018727       17.822097   36.833333   \n",
            "std         5.139097    0.384360       2.615373       12.379710   11.726573   \n",
            "min         1.000000    0.000000       2.000000        0.000000   18.000000   \n",
            "25%         5.250000    0.000000      12.000000        8.000000   28.000000   \n",
            "50%         7.780000    0.000000      12.000000       15.000000   35.000000   \n",
            "75%        11.250000    0.000000      15.000000       26.000000   44.000000   \n",
            "max        44.500000    1.000000      18.000000       55.000000   64.000000   \n",
            "\n",
            "           female        marr       south  manufacturing  construction  \n",
            "count  534.000000  534.000000  534.000000     534.000000    534.000000  \n",
            "mean     0.458801    0.655431    0.292135       0.185393      0.044944  \n",
            "std      0.498767    0.475673    0.455170       0.388981      0.207375  \n",
            "min      0.000000    0.000000    0.000000       0.000000      0.000000  \n",
            "25%      0.000000    0.000000    0.000000       0.000000      0.000000  \n",
            "50%      0.000000    1.000000    0.000000       0.000000      0.000000  \n",
            "75%      1.000000    1.000000    1.000000       0.000000      0.000000  \n",
            "max      1.000000    1.000000    1.000000       1.000000      1.000000  \n"
          ]
        }
      ]
    },
    {
      "cell_type": "markdown",
      "source": [
        "#### d-) Calcule a proporção de funcionários de sexo masculino e feminino."
      ],
      "metadata": {
        "id": "6c2QQ18WB5Vb"
      }
    },
    {
      "cell_type": "code",
      "source": [
        "female_proportion = df['female'].mean()\n",
        "male_proportion = 1 - female_proportion\n",
        "\n",
        "print(f\"Proporção de funcionários do sexo feminino: {female_proportion:.2f}\")\n",
        "print(f\"Proporção de funcionários do sexo masculino: {male_proportion:.2f}\")"
      ],
      "metadata": {
        "id": "v2ME0aM2CIq8",
        "outputId": "d53dd09c-4184-4cca-c129-63836a28ab28",
        "colab": {
          "base_uri": "https://localhost:8080/"
        }
      },
      "execution_count": 5,
      "outputs": [
        {
          "output_type": "stream",
          "name": "stdout",
          "text": [
            "Proporção de funcionários do sexo feminino: 0.46\n",
            "Proporção de funcionários do sexo masculino: 0.54\n"
          ]
        }
      ]
    },
    {
      "cell_type": "markdown",
      "source": [
        "#### e-) Calcule a proporção de casados e solteiros."
      ],
      "metadata": {
        "id": "LniJ24RxETKy"
      }
    },
    {
      "cell_type": "code",
      "source": [
        "married_proportion = df['marr'].mean()\n",
        "single_proportion = 1 - married_proportion\n",
        "\n",
        "print(f\"Proporção de funcionários casados: {married_proportion:.2f}\")\n",
        "print(f\"Proporção de funcionários solteiros: {single_proportion:.2f}\")"
      ],
      "metadata": {
        "id": "6__WiQEeEhdS",
        "outputId": "9e8357de-291e-4e15-bde3-cb3c780e0c98",
        "colab": {
          "base_uri": "https://localhost:8080/"
        }
      },
      "execution_count": 6,
      "outputs": [
        {
          "output_type": "stream",
          "name": "stdout",
          "text": [
            "Proporção de funcionários casados: 0.66\n",
            "Proporção de funcionários solteiros: 0.34\n"
          ]
        }
      ]
    },
    {
      "cell_type": "markdown",
      "source": [
        "#### f-) Calcule as médias de cada uma das variáveis: anos de educação, anos de experiência e idade"
      ],
      "metadata": {
        "id": "D1Fwp7rgEh-f"
      }
    },
    {
      "cell_type": "code",
      "source": [
        "mean_education_yrs = df['education_yrs'].mean()\n",
        "mean_experience_yrs = df['experience_yrs'].mean()\n",
        "mean_age = df['age'].mean()\n",
        "\n",
        "print(f\"Média de anos de educação: {mean_education_yrs:.2f}\")\n",
        "print(f\"Média de anos de experiência: {mean_experience_yrs:.2f}\")\n",
        "print(f\"Média de idade: {mean_age:.2f}\")"
      ],
      "metadata": {
        "id": "wj_QM5PgEp_7",
        "outputId": "4d309e3b-e201-4f29-d2ce-d8c72e8996be",
        "colab": {
          "base_uri": "https://localhost:8080/"
        }
      },
      "execution_count": 7,
      "outputs": [
        {
          "output_type": "stream",
          "name": "stdout",
          "text": [
            "Média de anos de educação: 13.02\n",
            "Média de anos de experiência: 17.82\n",
            "Média de idade: 36.83\n"
          ]
        }
      ]
    },
    {
      "cell_type": "markdown",
      "source": [
        "#### g-) Calcule as medianas de cada uma das variáveis: anos de educação, anos de experiência e idade."
      ],
      "metadata": {
        "id": "quy0rserFE5V"
      }
    },
    {
      "cell_type": "code",
      "source": [
        "median_education_yrs = df['education_yrs'].median()\n",
        "median_experience_yrs = df['experience_yrs'].median()\n",
        "median_age = df['age'].median()\n",
        "\n",
        "print(f\"Mediana de anos de educação: {median_education_yrs:.2f}\")\n",
        "print(f\"Mediana de anos de experiência: {median_experience_yrs:.2f}\")\n",
        "print(f\"Mediana de idade: {median_age:.2f}\")"
      ],
      "metadata": {
        "id": "zvMebS_bFcs-",
        "outputId": "c76a16c5-db24-406a-ec65-7231d67c2002",
        "colab": {
          "base_uri": "https://localhost:8080/"
        }
      },
      "execution_count": 8,
      "outputs": [
        {
          "output_type": "stream",
          "name": "stdout",
          "text": [
            "Mediana de anos de educação: 12.00\n",
            "Mediana de anos de experiência: 15.00\n",
            "Mediana de idade: 35.00\n"
          ]
        }
      ]
    },
    {
      "cell_type": "markdown",
      "source": [
        "####h-) Calcule as modas de cada uma das variáveis: anos de educação, anos de experiência e idade."
      ],
      "metadata": {
        "id": "HmBKD12oLVKC"
      }
    },
    {
      "cell_type": "code",
      "source": [
        "mode_education_yrs = df['education_yrs'].mode()[0]\n",
        "mode_experience_yrs = df['experience_yrs'].mode()[0]\n",
        "mode_age = df['age'].mode()[0]\n",
        "\n",
        "print(f\"Moda de anos de educação: {mode_education_yrs}\")\n",
        "print(f\"Moda de anos de experiência: {mode_experience_yrs}\")\n",
        "print(f\"Moda de idade: {mode_age}\")"
      ],
      "metadata": {
        "id": "YnitL-oeLblK",
        "outputId": "e32583a3-64be-4992-d71d-9383e923b2dd",
        "colab": {
          "base_uri": "https://localhost:8080/"
        }
      },
      "execution_count": 9,
      "outputs": [
        {
          "output_type": "stream",
          "name": "stdout",
          "text": [
            "Moda de anos de educação: 12\n",
            "Moda de anos de experiência: 14\n",
            "Moda de idade: 32\n"
          ]
        }
      ]
    },
    {
      "cell_type": "markdown",
      "source": [
        "####i-) Analisando especificamente a variável **idade**, responda: qual é a idade do conjunto de dados em que **70%** dos funcionários apresentam idade inferior?"
      ],
      "metadata": {
        "id": "JDjD9nSwGB3O"
      }
    },
    {
      "cell_type": "code",
      "source": [
        "idade_70_porcento = df['age'].quantile(0.70)\n",
        "print(f\"A idade em que 70% dos funcionários apresentam idade inferior é: {idade_70_porcento:.2f}\")"
      ],
      "metadata": {
        "id": "CTEjI25IGfkF",
        "outputId": "a54be1b6-e4e8-46ce-e40c-bf8769280311",
        "colab": {
          "base_uri": "https://localhost:8080/"
        }
      },
      "execution_count": 10,
      "outputs": [
        {
          "output_type": "stream",
          "name": "stdout",
          "text": [
            "A idade em que 70% dos funcionários apresentam idade inferior é: 42.00\n"
          ]
        }
      ]
    },
    {
      "cell_type": "markdown",
      "source": [
        "####j-) Analisando especificamente a variável **anos de experiência**, responda: qual é a quantidade de anos de experiência no conjunto de dados em que 10% dos funcionários ainda não possuem?"
      ],
      "metadata": {
        "id": "GQ8baHEpIbYA"
      }
    },
    {
      "cell_type": "code",
      "source": [
        "anos_experiencia_10_porcento = df['experience_yrs'].quantile(0.10)\n",
        "print(f\"A quantidade de anos de experiência em que 10% dos funcionários ainda não possuem é: {anos_experiencia_10_porcento:.2f}\")"
      ],
      "metadata": {
        "id": "U3XniCMGIpUP",
        "outputId": "4d1e9d13-7d6e-4f1a-e988-6689158b3d86",
        "colab": {
          "base_uri": "https://localhost:8080/"
        }
      },
      "execution_count": 11,
      "outputs": [
        {
          "output_type": "stream",
          "name": "stdout",
          "text": [
            "A quantidade de anos de experiência em que 10% dos funcionários ainda não possuem é: 3.00\n"
          ]
        }
      ]
    },
    {
      "cell_type": "markdown",
      "source": [
        "####k-) Calcule o desvio-padrão de cada um dos atributos: anos de educação, anos de experiência e idade."
      ],
      "metadata": {
        "id": "cC_C6Ha2AlWq"
      }
    },
    {
      "cell_type": "code",
      "source": [
        "std_education_yrs = df['education_yrs'].std()\n",
        "std_experience_yrs = df['experience_yrs'].std()\n",
        "std_age = df['age'].std()\n",
        "\n",
        "print(f\"Desvio padrão de anos de educação: {std_education_yrs:.2f}\")\n",
        "print(f\"Desvio padrão de anos de experiência: {std_experience_yrs:.2f}\")\n",
        "print(f\"Desvio padrão de idade: {std_age:.2f}\")"
      ],
      "metadata": {
        "id": "T7j8fluDAxsZ",
        "outputId": "d2c0557d-3352-4977-9a7f-1dee6c131f52",
        "colab": {
          "base_uri": "https://localhost:8080/"
        }
      },
      "execution_count": 12,
      "outputs": [
        {
          "output_type": "stream",
          "name": "stdout",
          "text": [
            "Desvio padrão de anos de educação: 2.62\n",
            "Desvio padrão de anos de experiência: 12.38\n",
            "Desvio padrão de idade: 11.73\n"
          ]
        }
      ]
    },
    {
      "cell_type": "markdown",
      "source": [
        "####l-) Determine qual dos três atributos apresenta maior variabilidade: anos de educação, anos de experiência ou idade? Justifique a sua resposta."
      ],
      "metadata": {
        "id": "OH-IBwUrONIF"
      }
    },
    {
      "cell_type": "code",
      "source": [
        "print(f\"Desvio padrão de anos de educação: {std_education_yrs:.2f}\")\n",
        "print(f\"Desvio padrão de anos de experiência: {std_experience_yrs:.2f}\")\n",
        "print(f\"Desvio padrão de idade: {std_age:.2f}\")\n",
        "print(f\"a maior variabilidade esta em experiencia, pois ela possui o maior numero sendo 12.38\")"
      ],
      "metadata": {
        "id": "2oQmNM5EPBBj",
        "outputId": "470dbe15-54c3-4f46-ba76-187e06564609",
        "colab": {
          "base_uri": "https://localhost:8080/"
        }
      },
      "execution_count": 21,
      "outputs": [
        {
          "output_type": "stream",
          "name": "stdout",
          "text": [
            "Desvio padrão de anos de educação: 2.62\n",
            "Desvio padrão de anos de experiência: 12.38\n",
            "Desvio padrão de idade: 11.73\n",
            "a maior variabilidade esta em experiencia, pois ela possui o maior numero sendo 12.38\n"
          ]
        }
      ]
    },
    {
      "cell_type": "markdown",
      "source": [
        "####m-) Leia o conjunto de dados [Atlas_Brasil_2014.csv](https://github.com/malegopc/DSBD/blob/main/Datasets/Atlas/Atlas_Brasil_2014.csv)"
      ],
      "metadata": {
        "id": "w7k40piNBgeA"
      }
    },
    {
      "cell_type": "code",
      "source": [
        "df = pd.read_csv('/content/DSBD/Datasets/Atlas/Atlas_Brasil_2014.csv')"
      ],
      "metadata": {
        "id": "Uc9rJyGhEEkx"
      },
      "execution_count": 14,
      "outputs": []
    },
    {
      "cell_type": "markdown",
      "source": [
        "n-) Calcule a média do IDHM."
      ],
      "metadata": {
        "id": "mL8wMEgrJ2Ge"
      }
    },
    {
      "cell_type": "code",
      "source": [
        "mean_idhm = df['IDHM'].mean()\n",
        "print(f\"A média do IDHM é: {mean_idhm:.2f}\")"
      ],
      "metadata": {
        "id": "kEih4G-bKGnD",
        "outputId": "5bfb4c8e-a9b1-429e-e447-cca238cb67eb",
        "colab": {
          "base_uri": "https://localhost:8080/"
        }
      },
      "execution_count": 15,
      "outputs": [
        {
          "output_type": "stream",
          "name": "stdout",
          "text": [
            "A média do IDHM é: 0.74\n"
          ]
        }
      ]
    },
    {
      "cell_type": "markdown",
      "source": [
        "o-) Qual é a taxa de mortalidade em que 50% dos estados apresentam taxa inferior?"
      ],
      "metadata": {
        "id": "uEsKZ-X2KHFk"
      }
    },
    {
      "cell_type": "code",
      "source": [
        "taxa_mortalidade_50_porcento = df['Taxa de mortalidade'].quantile(0.50)\n",
        "print(f\"A taxa de mortalidade em que 50% dos estados apresentam taxa inferior é: {taxa_mortalidade_50_porcento:.2f}\")"
      ],
      "metadata": {
        "id": "GlUl-QqAKfGA",
        "outputId": "6c750d0b-e3a7-4465-e115-051bd4a54702",
        "colab": {
          "base_uri": "https://localhost:8080/",
          "height": 738
        }
      },
      "execution_count": 18,
      "outputs": [
        {
          "output_type": "error",
          "ename": "KeyError",
          "evalue": "'Taxa de mortalidade'",
          "traceback": [
            "\u001b[0;31m---------------------------------------------------------------------------\u001b[0m",
            "\u001b[0;31mKeyError\u001b[0m                                  Traceback (most recent call last)",
            "\u001b[0;32m/usr/local/lib/python3.11/dist-packages/pandas/core/indexes/base.py\u001b[0m in \u001b[0;36mget_loc\u001b[0;34m(self, key)\u001b[0m\n\u001b[1;32m   3804\u001b[0m         \u001b[0;32mtry\u001b[0m\u001b[0;34m:\u001b[0m\u001b[0;34m\u001b[0m\u001b[0;34m\u001b[0m\u001b[0m\n\u001b[0;32m-> 3805\u001b[0;31m             \u001b[0;32mreturn\u001b[0m \u001b[0mself\u001b[0m\u001b[0;34m.\u001b[0m\u001b[0m_engine\u001b[0m\u001b[0;34m.\u001b[0m\u001b[0mget_loc\u001b[0m\u001b[0;34m(\u001b[0m\u001b[0mcasted_key\u001b[0m\u001b[0;34m)\u001b[0m\u001b[0;34m\u001b[0m\u001b[0;34m\u001b[0m\u001b[0m\n\u001b[0m\u001b[1;32m   3806\u001b[0m         \u001b[0;32mexcept\u001b[0m \u001b[0mKeyError\u001b[0m \u001b[0;32mas\u001b[0m \u001b[0merr\u001b[0m\u001b[0;34m:\u001b[0m\u001b[0;34m\u001b[0m\u001b[0;34m\u001b[0m\u001b[0m\n",
            "\u001b[0;32mindex.pyx\u001b[0m in \u001b[0;36mpandas._libs.index.IndexEngine.get_loc\u001b[0;34m()\u001b[0m\n",
            "\u001b[0;32mindex.pyx\u001b[0m in \u001b[0;36mpandas._libs.index.IndexEngine.get_loc\u001b[0;34m()\u001b[0m\n",
            "\u001b[0;32mpandas/_libs/hashtable_class_helper.pxi\u001b[0m in \u001b[0;36mpandas._libs.hashtable.PyObjectHashTable.get_item\u001b[0;34m()\u001b[0m\n",
            "\u001b[0;32mpandas/_libs/hashtable_class_helper.pxi\u001b[0m in \u001b[0;36mpandas._libs.hashtable.PyObjectHashTable.get_item\u001b[0;34m()\u001b[0m\n",
            "\u001b[0;31mKeyError\u001b[0m: 'Taxa de mortalidade'",
            "\nThe above exception was the direct cause of the following exception:\n",
            "\u001b[0;31mKeyError\u001b[0m                                  Traceback (most recent call last)",
            "\u001b[0;32m<ipython-input-18-9300e2fb1627>\u001b[0m in \u001b[0;36m<cell line: 0>\u001b[0;34m()\u001b[0m\n\u001b[0;32m----> 1\u001b[0;31m \u001b[0mtaxa_mortalidade_50_porcento\u001b[0m \u001b[0;34m=\u001b[0m \u001b[0mdf\u001b[0m\u001b[0;34m[\u001b[0m\u001b[0;34m'Taxa de mortalidade'\u001b[0m\u001b[0;34m]\u001b[0m\u001b[0;34m.\u001b[0m\u001b[0mquantile\u001b[0m\u001b[0;34m(\u001b[0m\u001b[0;36m0.50\u001b[0m\u001b[0;34m)\u001b[0m\u001b[0;34m\u001b[0m\u001b[0;34m\u001b[0m\u001b[0m\n\u001b[0m\u001b[1;32m      2\u001b[0m \u001b[0mprintf\u001b[0m\u001b[0;34m(\u001b[0m\u001b[0;34m\"A taxa de mortalidade em que 50% dos estados apresentam taxa inferior é: {taxa_mortalidade_50_porcento:.2f}\"\u001b[0m\u001b[0;34m)\u001b[0m\u001b[0;34m\u001b[0m\u001b[0;34m\u001b[0m\u001b[0m\n",
            "\u001b[0;32m/usr/local/lib/python3.11/dist-packages/pandas/core/frame.py\u001b[0m in \u001b[0;36m__getitem__\u001b[0;34m(self, key)\u001b[0m\n\u001b[1;32m   4100\u001b[0m             \u001b[0;32mif\u001b[0m \u001b[0mself\u001b[0m\u001b[0;34m.\u001b[0m\u001b[0mcolumns\u001b[0m\u001b[0;34m.\u001b[0m\u001b[0mnlevels\u001b[0m \u001b[0;34m>\u001b[0m \u001b[0;36m1\u001b[0m\u001b[0;34m:\u001b[0m\u001b[0;34m\u001b[0m\u001b[0;34m\u001b[0m\u001b[0m\n\u001b[1;32m   4101\u001b[0m                 \u001b[0;32mreturn\u001b[0m \u001b[0mself\u001b[0m\u001b[0;34m.\u001b[0m\u001b[0m_getitem_multilevel\u001b[0m\u001b[0;34m(\u001b[0m\u001b[0mkey\u001b[0m\u001b[0;34m)\u001b[0m\u001b[0;34m\u001b[0m\u001b[0;34m\u001b[0m\u001b[0m\n\u001b[0;32m-> 4102\u001b[0;31m             \u001b[0mindexer\u001b[0m \u001b[0;34m=\u001b[0m \u001b[0mself\u001b[0m\u001b[0;34m.\u001b[0m\u001b[0mcolumns\u001b[0m\u001b[0;34m.\u001b[0m\u001b[0mget_loc\u001b[0m\u001b[0;34m(\u001b[0m\u001b[0mkey\u001b[0m\u001b[0;34m)\u001b[0m\u001b[0;34m\u001b[0m\u001b[0;34m\u001b[0m\u001b[0m\n\u001b[0m\u001b[1;32m   4103\u001b[0m             \u001b[0;32mif\u001b[0m \u001b[0mis_integer\u001b[0m\u001b[0;34m(\u001b[0m\u001b[0mindexer\u001b[0m\u001b[0;34m)\u001b[0m\u001b[0;34m:\u001b[0m\u001b[0;34m\u001b[0m\u001b[0;34m\u001b[0m\u001b[0m\n\u001b[1;32m   4104\u001b[0m                 \u001b[0mindexer\u001b[0m \u001b[0;34m=\u001b[0m \u001b[0;34m[\u001b[0m\u001b[0mindexer\u001b[0m\u001b[0;34m]\u001b[0m\u001b[0;34m\u001b[0m\u001b[0;34m\u001b[0m\u001b[0m\n",
            "\u001b[0;32m/usr/local/lib/python3.11/dist-packages/pandas/core/indexes/base.py\u001b[0m in \u001b[0;36mget_loc\u001b[0;34m(self, key)\u001b[0m\n\u001b[1;32m   3810\u001b[0m             ):\n\u001b[1;32m   3811\u001b[0m                 \u001b[0;32mraise\u001b[0m \u001b[0mInvalidIndexError\u001b[0m\u001b[0;34m(\u001b[0m\u001b[0mkey\u001b[0m\u001b[0;34m)\u001b[0m\u001b[0;34m\u001b[0m\u001b[0;34m\u001b[0m\u001b[0m\n\u001b[0;32m-> 3812\u001b[0;31m             \u001b[0;32mraise\u001b[0m \u001b[0mKeyError\u001b[0m\u001b[0;34m(\u001b[0m\u001b[0mkey\u001b[0m\u001b[0;34m)\u001b[0m \u001b[0;32mfrom\u001b[0m \u001b[0merr\u001b[0m\u001b[0;34m\u001b[0m\u001b[0;34m\u001b[0m\u001b[0m\n\u001b[0m\u001b[1;32m   3813\u001b[0m         \u001b[0;32mexcept\u001b[0m \u001b[0mTypeError\u001b[0m\u001b[0;34m:\u001b[0m\u001b[0;34m\u001b[0m\u001b[0;34m\u001b[0m\u001b[0m\n\u001b[1;32m   3814\u001b[0m             \u001b[0;31m# If we have a listlike key, _check_indexing_error will raise\u001b[0m\u001b[0;34m\u001b[0m\u001b[0;34m\u001b[0m\u001b[0m\n",
            "\u001b[0;31mKeyError\u001b[0m: 'Taxa de mortalidade'"
          ]
        }
      ]
    },
    {
      "source": [
        "taxa_mortalidade_50_porcento = df['Taxa de mortalidade'].quantile(0.50)\n",
        "print(f\"A taxa de mortalidade em que 50% dos estados apresentam taxa inferior é: {taxa_mortalidade_50_porcento:.2f}\")"
      ],
      "cell_type": "code",
      "metadata": {
        "id": "v1Ijxr6nWv49"
      },
      "execution_count": null,
      "outputs": []
    },
    {
      "cell_type": "markdown",
      "source": [
        "p-) Calcule qual o valor de RDPC (renda per capita) em que 25% dos estados apresentam valor superior."
      ],
      "metadata": {
        "id": "u5zF4MilLdB5"
      }
    },
    {
      "cell_type": "code",
      "source": [
        "rdpc_75_porcento = df['RDPC'].quantile(0.75)\n",
        "print(f\"O valor de RDPC em que 25% dos estados apresentam valor superior é: {rdpc_75_porcento:.2f}\")"
      ],
      "metadata": {
        "id": "vojyOIEiL72c",
        "colab": {
          "base_uri": "https://localhost:8080/"
        },
        "outputId": "4374530a-7272-4e3f-d900-569c5a22d468"
      },
      "execution_count": 19,
      "outputs": [
        {
          "output_type": "stream",
          "name": "stdout",
          "text": [
            "O valor de RDPC em que 25% dos estados apresentam valor superior é: 885.16\n"
          ]
        }
      ]
    },
    {
      "cell_type": "markdown",
      "source": [
        "q-) Determine dentre as duas variáveis: T_ANALF25M (Taxa de analfabetismo - 25 anos ou mais) ou RDPC (Renda per capita média), qual apresenta maior variabilidade. Justifique a sua resposta."
      ],
      "metadata": {
        "id": "tsJmffdDLwy8"
      }
    },
    {
      "cell_type": "code",
      "source": [
        "std_t_analf25m = df['T_ANALF25M'].std()\n",
        "std_rdpc = df['RDPC'].std()\n",
        "\n",
        "print(f\"Desvio padrão de T_ANALF25M: {std_t_analf25m:.2f}\")\n",
        "print(f\"Desvio padrão de RDPC: {std_rdpc:.2f}\")\n",
        "\n",
        "if std_t_analf25m > std_rdpc:\n",
        "  print(\"A variável T_ANALF25M apresenta maior variabilidade.\")\n",
        "else:\n",
        "  print(\"A variável RDPC apresenta maior variabilidade.\")\n",
        "  #a varialvel RDPC e possui uma variabilidade maior pois o desvio e maior."
      ],
      "metadata": {
        "id": "7UjsBWb4Lwbu",
        "colab": {
          "base_uri": "https://localhost:8080/"
        },
        "outputId": "e97fbedd-6fc8-4632-8732-da46145a368c"
      },
      "execution_count": 20,
      "outputs": [
        {
          "output_type": "stream",
          "name": "stdout",
          "text": [
            "Desvio padrão de T_ANALF25M: 7.65\n",
            "Desvio padrão de RDPC: 268.68\n",
            "A variável RDPC apresenta maior variabilidade.\n"
          ]
        }
      ]
    }
  ]
}