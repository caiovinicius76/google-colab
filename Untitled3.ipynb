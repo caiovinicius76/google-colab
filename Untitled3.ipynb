{
  "nbformat": 4,
  "nbformat_minor": 0,
  "metadata": {
    "colab": {
      "provenance": [],
      "authorship_tag": "ABX9TyN5E5d403iKpdAg1uIN0/Y7",
      "include_colab_link": true
    },
    "kernelspec": {
      "name": "python3",
      "display_name": "Python 3"
    },
    "language_info": {
      "name": "python"
    }
  },
  "cells": [
    {
      "cell_type": "markdown",
      "metadata": {
        "id": "view-in-github",
        "colab_type": "text"
      },
      "source": [
        "<a href=\"https://colab.research.google.com/github/caiovinicius76/google-colab/blob/main/Untitled3.ipynb\" target=\"_parent\"><img src=\"https://colab.research.google.com/assets/colab-badge.svg\" alt=\"Open In Colab\"/></a>"
      ]
    },
    {
      "cell_type": "markdown",
      "source": [
        "SUPONHA QUE A PROBABILIDADE DOS PAIS TEREM UM FILHO(A) COM CABELOS LOIROS SEJA ¼. SE HOUVER 6\n",
        "CRIANÇAS NA FAMÍLIA, QUAL É A PROBABILIDADE DE QUE METADE DELAS TEREM CABELOS LOIROS"
      ],
      "metadata": {
        "id": "sUYDzUVUbxP8"
      }
    },
    {
      "cell_type": "code",
      "execution_count": 1,
      "metadata": {
        "colab": {
          "base_uri": "https://localhost:8080/"
        },
        "id": "gd3qx1dObYxs",
        "outputId": "764b73cb-f7e5-41fc-e471-024147f4e571"
      },
      "outputs": [
        {
          "output_type": "stream",
          "name": "stdout",
          "text": [
            "A probabilidade de exatamente 3 filhos terem cabelos loiros é: 0.13183593749999992\n"
          ]
        }
      ],
      "source": [
        "from scipy.stats import binom\n",
        "p = 0.25\n",
        "n = 6\n",
        "k = 3\n",
        "probabilidade = binom.pmf(k, n, p)\n",
        "\n",
        "print(f\"A probabilidade de exatamente 3 crianças terem cabelos loiros é: {probabilidade}\")"
      ]
    },
    {
      "cell_type": "markdown",
      "source": [
        "NOS EUA, O NÚMERO MÉDIO DE FALÊNCIAS POR HORA ERA OITO (FONTE: WALL STREET JOURNAL – LARSON &\n",
        "FARBER (2006)). OBTENHA A PROBABILIDADE DE OCORRER EXATAMENTE QUATRO FALÊNCIAS EM UMA\n",
        "DETERMINADA HORA."
      ],
      "metadata": {
        "id": "V9uLJVQ8b8Tz"
      }
    },
    {
      "cell_type": "code",
      "source": [
        "from scipy.stats import poisson\n",
        "\n",
        "media = 8\n",
        "k = 4\n",
        "probabilidade = poisson.pmf(k, media)\n",
        "\n",
        "print(f\"A probabilidade de ocorrerem exatamente quatro falências em uma determinada hora é: {probabilidade}\")"
      ],
      "metadata": {
        "colab": {
          "base_uri": "https://localhost:8080/"
        },
        "id": "doWTaOhOb76E",
        "outputId": "2796d694-26f8-4937-9f40-c5adfac6c386"
      },
      "execution_count": 4,
      "outputs": [
        {
          "output_type": "stream",
          "name": "stdout",
          "text": [
            "A probabilidade de ocorrerem exatamente quatro falências em uma determinada hora é: 0.057252288495362\n"
          ]
        }
      ]
    },
    {
      "cell_type": "markdown",
      "source": [
        "4-) O NÚMERO DE HORAS SEMANAIS QUE OS ADULTOS NORTE-AMERICANOS GASTAM EM FRENTE AO COMPUTADOR\n",
        "EM CASA É NORMALMENTE DISTRIBUÍDO, COM MÉDIA DE 5 HORAS E DESVIO PADRÃO DE 1 HORA. UM ADULTO FOI\n",
        "SELECIONADO AO ACASO.\n",
        "\n",
        "\n",
        "A-) OBTENHA A PROBABILIDADE DE O NÚMERO DE HORAS GASTAS NO COMPUTADOR PELO ADULTO SER INFERIOR A\n",
        "2,5 SEMANAIS.\n",
        "\n",
        "\n",
        "B-) OBTENHA A PROBABILIDADE DE O NÚMERO DE HORAS GASTAS NO COMPUTADOR PELO ADULTO ESTAR ENTRE\n",
        "2,5 E 7,5.\n",
        "\n",
        "\n",
        "C-) OBTENHA A PROBABILIDADE DE O NÚMERO DE HORAS GASTAS NO COMPUTADOR SER SUPERIOR A 7,5 HORAS\n",
        "SEMANAIS."
      ],
      "metadata": {
        "id": "XpWjMR_PcYa0"
      }
    },
    {
      "cell_type": "markdown",
      "source": [],
      "metadata": {
        "id": "0jiTQb3EchFq"
      }
    },
    {
      "cell_type": "code",
      "source": [
        "from scipy.stats import norm\n",
        "media = 5\n",
        "desvio_padrao = 1\n",
        "\n",
        "probabilidade_a = norm.cdf(2.5, loc=media, scale=desvio_padrao)\n",
        "print(f\"A probabilidade de o número de horas ser inferior a 2,5 é: {probabilidade_a}\")\n",
        "\n",
        "probabilidade_b = norm.cdf(7.5, loc=media, scale=desvio_padrao) - norm.cdf(2.5, loc=media, scale=desvio_padrao)\n",
        "print(f\"A probabilidade de o número de horas estar entre 2,5 e 7,5 é: {probabilidade_b}\")\n",
        "\n",
        "probabilidade_c = 1 - norm.cdf(7.5, loc=media, scale=desvio_padrao)\n",
        "print(f\"A probabilidade de o número de horas ser superior a 7,5 é: {probabilidade_c}\")"
      ],
      "metadata": {
        "colab": {
          "base_uri": "https://localhost:8080/"
        },
        "id": "FwTzpyL3cYp6",
        "outputId": "bebc5da1-faba-422a-e5a1-2a889aa3976e"
      },
      "execution_count": 5,
      "outputs": [
        {
          "output_type": "stream",
          "name": "stdout",
          "text": [
            "A probabilidade de o número de horas ser inferior a 2,5 é: 0.006209665325776132\n",
            "A probabilidade de o número de horas estar entre 2,5 e 7,5 é: 0.9875806693484477\n",
            "A probabilidade de o número de horas ser superior a 7,5 é: 0.006209665325776159\n"
          ]
        }
      ]
    }
  ]
}